{
 "cells": [
  {
   "cell_type": "markdown",
   "id": "5a1dba42",
   "metadata": {},
   "source": [
    "# Tutorial on how to use PAAT\n",
    "\n",
    "This tutorial provides some basic introduction to [Python](https://www.python.org/) and [PAAT](https://github.com/Trybnetic/paat) to process and analyse ActiGraph's GT3X files. To get started easily, we provide a GT3X file in the `data/` folder that we will use in the following. If you are comming from ActiLife, the declarative way of using Python might be new to you. We will therefore in each step describe what is happening.\n",
    "\n",
    "The first thing you need to do in any analysis with python is to declare your dependencies. In this tutorial this is very easy as we will only use PAAT and the `os` module to disable Tensorflow's logging:"
   ]
  },
  {
   "cell_type": "code",
   "execution_count": 1,
   "id": "ece02bd6",
   "metadata": {},
   "outputs": [],
   "source": [
    "import paat\n",
    "\n",
    "# disable tensorflow logging\n",
    "import os; os.environ['TF_CPP_MIN_LOG_LEVEL'] = '3' "
   ]
  },
  {
   "cell_type": "markdown",
   "id": "99def392",
   "metadata": {},
   "source": [
    "The next thing we need to do is to load the GT3X file from `data/example.gt3x`. The `read_gt3x()` function returns a [Pandas DataFrame](https://pandas.pydata.org/pandas-docs/stable/reference/api/pandas.DataFrame.html) and an integer indicating the sampling frequency of the file in hertz. If you have worked with [R](https://www.r-project.org/) before, you can think of a Pandas DataFrame as like a `data.frame` object in R."
   ]
  },
  {
   "cell_type": "code",
   "execution_count": 2,
   "id": "627be4e7",
   "metadata": {},
   "outputs": [],
   "source": [
    "data, sample_freq = paat.read_gt3x('data/example.gt3x')"
   ]
  },
  {
   "cell_type": "markdown",
   "id": "8d751c46",
   "metadata": {},
   "source": [
    "If you want, feel free to try loading you own GT3X file at this point by replacing `data/example.gt3x` with the [file path](https://www.wikihow.com/Find-a-File%27s-Path-on-Windows) to your GT3X file.\n",
    "\n",
    "In PAAT we implemented different functions based on our lab's research on acceleration data processing to identify non wear time and sleep periods which we obviously recommend. Nevertheless, we have also implemented some other methods, like the non wear time detection method proposed by [Van Hees et al. (2011)](https://doi.org/10.1371/journal.pone.0022922). In the following, we will use the non wear time method as described by [Syed et al. (2021)](https://doi.org/10.1038/s41598-021-87757-z)"
   ]
  },
  {
   "cell_type": "code",
   "execution_count": 3,
   "id": "e36985ee",
   "metadata": {},
   "outputs": [],
   "source": [
    "data.loc[:, \"Non Wear Time\"] = paat.detect_non_wear_time_syed2021(data, sample_freq)"
   ]
  },
  {
   "cell_type": "markdown",
   "id": "73329160",
   "metadata": {},
   "source": [
    "and the sleep detection method described by [Weitz et al. (2022)](https://doi.org/10.1101/2022.03.07.22270992)"
   ]
  },
  {
   "cell_type": "code",
   "execution_count": 4,
   "id": "16b4c184",
   "metadata": {},
   "outputs": [],
   "source": [
    "data.loc[:, \"Sleep\"] = paat.detect_sleep_weitz2022(data, sample_freq)"
   ]
  },
  {
   "cell_type": "markdown",
   "id": "bc5f910c",
   "metadata": {},
   "source": [
    "We can always inspect the DataFrame, by calling it as the last command in a cell:"
   ]
  },
  {
   "cell_type": "code",
   "execution_count": 5,
   "id": "a6ad6322",
   "metadata": {},
   "outputs": [
    {
     "data": {
      "text/html": [
       "<div>\n",
       "<style scoped>\n",
       "    .dataframe tbody tr th:only-of-type {\n",
       "        vertical-align: middle;\n",
       "    }\n",
       "\n",
       "    .dataframe tbody tr th {\n",
       "        vertical-align: top;\n",
       "    }\n",
       "\n",
       "    .dataframe thead th {\n",
       "        text-align: right;\n",
       "    }\n",
       "</style>\n",
       "<table border=\"1\" class=\"dataframe\">\n",
       "  <thead>\n",
       "    <tr style=\"text-align: right;\">\n",
       "      <th></th>\n",
       "      <th>X</th>\n",
       "      <th>Y</th>\n",
       "      <th>Z</th>\n",
       "      <th>Non Wear Time</th>\n",
       "      <th>Sleep</th>\n",
       "    </tr>\n",
       "  </thead>\n",
       "  <tbody>\n",
       "    <tr>\n",
       "      <th>2022-01-03 10:20:00.000</th>\n",
       "      <td>0.804688</td>\n",
       "      <td>0.621094</td>\n",
       "      <td>0.085938</td>\n",
       "      <td>False</td>\n",
       "      <td>True</td>\n",
       "    </tr>\n",
       "    <tr>\n",
       "      <th>2022-01-03 10:20:00.010</th>\n",
       "      <td>0.804688</td>\n",
       "      <td>0.597656</td>\n",
       "      <td>0.085938</td>\n",
       "      <td>False</td>\n",
       "      <td>True</td>\n",
       "    </tr>\n",
       "    <tr>\n",
       "      <th>2022-01-03 10:20:00.020</th>\n",
       "      <td>0.804688</td>\n",
       "      <td>0.585938</td>\n",
       "      <td>0.078125</td>\n",
       "      <td>False</td>\n",
       "      <td>True</td>\n",
       "    </tr>\n",
       "    <tr>\n",
       "      <th>2022-01-03 10:20:00.030</th>\n",
       "      <td>0.804688</td>\n",
       "      <td>0.582031</td>\n",
       "      <td>0.074219</td>\n",
       "      <td>False</td>\n",
       "      <td>True</td>\n",
       "    </tr>\n",
       "    <tr>\n",
       "      <th>2022-01-03 10:20:00.040</th>\n",
       "      <td>0.800781</td>\n",
       "      <td>0.585938</td>\n",
       "      <td>0.074219</td>\n",
       "      <td>False</td>\n",
       "      <td>True</td>\n",
       "    </tr>\n",
       "    <tr>\n",
       "      <th>...</th>\n",
       "      <td>...</td>\n",
       "      <td>...</td>\n",
       "      <td>...</td>\n",
       "      <td>...</td>\n",
       "      <td>...</td>\n",
       "    </tr>\n",
       "    <tr>\n",
       "      <th>2022-01-03 10:29:59.950</th>\n",
       "      <td>0.289062</td>\n",
       "      <td>0.960938</td>\n",
       "      <td>-0.050781</td>\n",
       "      <td>False</td>\n",
       "      <td>False</td>\n",
       "    </tr>\n",
       "    <tr>\n",
       "      <th>2022-01-03 10:29:59.960</th>\n",
       "      <td>0.289062</td>\n",
       "      <td>0.960938</td>\n",
       "      <td>-0.054688</td>\n",
       "      <td>False</td>\n",
       "      <td>False</td>\n",
       "    </tr>\n",
       "    <tr>\n",
       "      <th>2022-01-03 10:29:59.970</th>\n",
       "      <td>0.285156</td>\n",
       "      <td>0.957031</td>\n",
       "      <td>-0.054688</td>\n",
       "      <td>False</td>\n",
       "      <td>False</td>\n",
       "    </tr>\n",
       "    <tr>\n",
       "      <th>2022-01-03 10:29:59.980</th>\n",
       "      <td>0.289062</td>\n",
       "      <td>0.957031</td>\n",
       "      <td>-0.054688</td>\n",
       "      <td>False</td>\n",
       "      <td>False</td>\n",
       "    </tr>\n",
       "    <tr>\n",
       "      <th>2022-01-03 10:29:59.990</th>\n",
       "      <td>0.285156</td>\n",
       "      <td>0.960938</td>\n",
       "      <td>-0.050781</td>\n",
       "      <td>False</td>\n",
       "      <td>False</td>\n",
       "    </tr>\n",
       "  </tbody>\n",
       "</table>\n",
       "<p>60000 rows × 5 columns</p>\n",
       "</div>"
      ],
      "text/plain": [
       "                                X         Y         Z  Non Wear Time  Sleep\n",
       "2022-01-03 10:20:00.000  0.804688  0.621094  0.085938          False   True\n",
       "2022-01-03 10:20:00.010  0.804688  0.597656  0.085938          False   True\n",
       "2022-01-03 10:20:00.020  0.804688  0.585938  0.078125          False   True\n",
       "2022-01-03 10:20:00.030  0.804688  0.582031  0.074219          False   True\n",
       "2022-01-03 10:20:00.040  0.800781  0.585938  0.074219          False   True\n",
       "...                           ...       ...       ...            ...    ...\n",
       "2022-01-03 10:29:59.950  0.289062  0.960938 -0.050781          False  False\n",
       "2022-01-03 10:29:59.960  0.289062  0.960938 -0.054688          False  False\n",
       "2022-01-03 10:29:59.970  0.285156  0.957031 -0.054688          False  False\n",
       "2022-01-03 10:29:59.980  0.289062  0.957031 -0.054688          False  False\n",
       "2022-01-03 10:29:59.990  0.285156  0.960938 -0.050781          False  False\n",
       "\n",
       "[60000 rows x 5 columns]"
      ]
     },
     "execution_count": 5,
     "metadata": {},
     "output_type": "execute_result"
    }
   ],
   "source": [
    "data"
   ]
  },
  {
   "cell_type": "markdown",
   "id": "d9724c4d",
   "metadata": {},
   "source": [
    "To analyze physical activity data, we implemented the standard vector magnitude based method to estimate physical activity levels which can be used with different thresholds. In the following, we use the thresholds presented by [Sanders et al. (2019)](https://doi.org/10.1080/02640414.2018.1555904) which are 0.069mg for moderate-to-vigorous activity and <0.015mg for sedentary activity:"
   ]
  },
  {
   "cell_type": "code",
   "execution_count": 6,
   "id": "42e4b570",
   "metadata": {},
   "outputs": [],
   "source": [
    "data.loc[:, [\"MVPA\", \"SB\"]] = paat.calculate_pa_levels(data, sample_freq, mvpa_cutpoint=0.069, sb_cutpoint=0.015)"
   ]
  },
  {
   "cell_type": "markdown",
   "id": "6dcb683f",
   "metadata": {},
   "source": [
    "From all this data, we can now create one joint column that contains a label for each time step"
   ]
  },
  {
   "cell_type": "code",
   "execution_count": 7,
   "id": "d5c2bdb5",
   "metadata": {},
   "outputs": [],
   "source": [
    "data.loc[:, \"Activity\"] = paat.create_activity_column(data, columns=[\"SB\", \"MVPA\", \"Sleep\", \"Non Wear Time\"])"
   ]
  },
  {
   "cell_type": "markdown",
   "id": "6106fec5",
   "metadata": {},
   "source": [
    "The other columns `\"Non Wear Time\"`, `\"Sleep\"`, `\"MVPA\"` and `\"SB\"` are no longer needed so we can create a new DataFrame that only keeps the acceleration data and the just created `\"Activity\"` column:"
   ]
  },
  {
   "cell_type": "code",
   "execution_count": 8,
   "id": "050dbac1",
   "metadata": {},
   "outputs": [
    {
     "data": {
      "text/html": [
       "<div>\n",
       "<style scoped>\n",
       "    .dataframe tbody tr th:only-of-type {\n",
       "        vertical-align: middle;\n",
       "    }\n",
       "\n",
       "    .dataframe tbody tr th {\n",
       "        vertical-align: top;\n",
       "    }\n",
       "\n",
       "    .dataframe thead th {\n",
       "        text-align: right;\n",
       "    }\n",
       "</style>\n",
       "<table border=\"1\" class=\"dataframe\">\n",
       "  <thead>\n",
       "    <tr style=\"text-align: right;\">\n",
       "      <th></th>\n",
       "      <th>X</th>\n",
       "      <th>Y</th>\n",
       "      <th>Z</th>\n",
       "      <th>Activity</th>\n",
       "    </tr>\n",
       "  </thead>\n",
       "  <tbody>\n",
       "    <tr>\n",
       "      <th>2022-01-03 10:20:00.000</th>\n",
       "      <td>0.804688</td>\n",
       "      <td>0.621094</td>\n",
       "      <td>0.085938</td>\n",
       "      <td>Sleep</td>\n",
       "    </tr>\n",
       "    <tr>\n",
       "      <th>2022-01-03 10:20:00.010</th>\n",
       "      <td>0.804688</td>\n",
       "      <td>0.597656</td>\n",
       "      <td>0.085938</td>\n",
       "      <td>Sleep</td>\n",
       "    </tr>\n",
       "    <tr>\n",
       "      <th>2022-01-03 10:20:00.020</th>\n",
       "      <td>0.804688</td>\n",
       "      <td>0.585938</td>\n",
       "      <td>0.078125</td>\n",
       "      <td>Sleep</td>\n",
       "    </tr>\n",
       "    <tr>\n",
       "      <th>2022-01-03 10:20:00.030</th>\n",
       "      <td>0.804688</td>\n",
       "      <td>0.582031</td>\n",
       "      <td>0.074219</td>\n",
       "      <td>Sleep</td>\n",
       "    </tr>\n",
       "    <tr>\n",
       "      <th>2022-01-03 10:20:00.040</th>\n",
       "      <td>0.800781</td>\n",
       "      <td>0.585938</td>\n",
       "      <td>0.074219</td>\n",
       "      <td>Sleep</td>\n",
       "    </tr>\n",
       "    <tr>\n",
       "      <th>...</th>\n",
       "      <td>...</td>\n",
       "      <td>...</td>\n",
       "      <td>...</td>\n",
       "      <td>...</td>\n",
       "    </tr>\n",
       "    <tr>\n",
       "      <th>2022-01-03 10:29:59.950</th>\n",
       "      <td>0.289062</td>\n",
       "      <td>0.960938</td>\n",
       "      <td>-0.050781</td>\n",
       "      <td>SB</td>\n",
       "    </tr>\n",
       "    <tr>\n",
       "      <th>2022-01-03 10:29:59.960</th>\n",
       "      <td>0.289062</td>\n",
       "      <td>0.960938</td>\n",
       "      <td>-0.054688</td>\n",
       "      <td>SB</td>\n",
       "    </tr>\n",
       "    <tr>\n",
       "      <th>2022-01-03 10:29:59.970</th>\n",
       "      <td>0.285156</td>\n",
       "      <td>0.957031</td>\n",
       "      <td>-0.054688</td>\n",
       "      <td>SB</td>\n",
       "    </tr>\n",
       "    <tr>\n",
       "      <th>2022-01-03 10:29:59.980</th>\n",
       "      <td>0.289062</td>\n",
       "      <td>0.957031</td>\n",
       "      <td>-0.054688</td>\n",
       "      <td>SB</td>\n",
       "    </tr>\n",
       "    <tr>\n",
       "      <th>2022-01-03 10:29:59.990</th>\n",
       "      <td>0.285156</td>\n",
       "      <td>0.960938</td>\n",
       "      <td>-0.050781</td>\n",
       "      <td>SB</td>\n",
       "    </tr>\n",
       "  </tbody>\n",
       "</table>\n",
       "<p>60000 rows × 4 columns</p>\n",
       "</div>"
      ],
      "text/plain": [
       "                                X         Y         Z Activity\n",
       "2022-01-03 10:20:00.000  0.804688  0.621094  0.085938    Sleep\n",
       "2022-01-03 10:20:00.010  0.804688  0.597656  0.085938    Sleep\n",
       "2022-01-03 10:20:00.020  0.804688  0.585938  0.078125    Sleep\n",
       "2022-01-03 10:20:00.030  0.804688  0.582031  0.074219    Sleep\n",
       "2022-01-03 10:20:00.040  0.800781  0.585938  0.074219    Sleep\n",
       "...                           ...       ...       ...      ...\n",
       "2022-01-03 10:29:59.950  0.289062  0.960938 -0.050781       SB\n",
       "2022-01-03 10:29:59.960  0.289062  0.960938 -0.054688       SB\n",
       "2022-01-03 10:29:59.970  0.285156  0.957031 -0.054688       SB\n",
       "2022-01-03 10:29:59.980  0.289062  0.957031 -0.054688       SB\n",
       "2022-01-03 10:29:59.990  0.285156  0.960938 -0.050781       SB\n",
       "\n",
       "[60000 rows x 4 columns]"
      ]
     },
     "execution_count": 8,
     "metadata": {},
     "output_type": "execute_result"
    }
   ],
   "source": [
    "data = data[[\"X\", \"Y\", \"Z\", \"Activity\"]]\n",
    "data"
   ]
  },
  {
   "cell_type": "markdown",
   "id": "6709916c",
   "metadata": {},
   "source": [
    "Finally, when you are done with processing, you need to export your data. This can be done using Pandas' [to_csv()](https://pandas.pydata.org/pandas-docs/stable/reference/api/pandas.DataFrame.to_csv.html) to export the DataFrame as a Comma Seperated Value (CSV) file which can be for example imported to Excel:"
   ]
  },
  {
   "cell_type": "code",
   "execution_count": 9,
   "id": "d416c5e0",
   "metadata": {},
   "outputs": [],
   "source": [
    "data.to_csv(\"data/raw_data.csv\")"
   ]
  },
  {
   "cell_type": "markdown",
   "id": "b39c1f42",
   "metadata": {},
   "source": [
    "You can also create the ActiLife counts and export them:"
   ]
  },
  {
   "cell_type": "code",
   "execution_count": 10,
   "id": "009ff387",
   "metadata": {},
   "outputs": [],
   "source": [
    "counts = paat.calculate_actigraph_counts(data, sample_freq, \"10s\")\n",
    "counts.to_csv(\"data/count_data.csv\")"
   ]
  }
 ],
 "metadata": {
  "kernelspec": {
   "display_name": "Python 3 (ipykernel)",
   "language": "python",
   "name": "python3"
  },
  "language_info": {
   "codemirror_mode": {
    "name": "ipython",
    "version": 3
   },
   "file_extension": ".py",
   "mimetype": "text/x-python",
   "name": "python",
   "nbconvert_exporter": "python",
   "pygments_lexer": "ipython3",
   "version": "3.9.7"
  }
 },
 "nbformat": 4,
 "nbformat_minor": 5
}
